{
 "cells": [
  {
   "cell_type": "code",
   "execution_count": 1,
   "metadata": {},
   "outputs": [
    {
     "name": "stdout",
     "output_type": "stream",
     "text": [
      "Created `%t` as an alias for `%time`.\n",
      "Created `%%t` as an alias for `%%time`.\n"
     ]
    }
   ],
   "source": [
    "# Scientific libraries\n",
    "import scipy\n",
    "from scipy import stats\n",
    "import statsmodels.formula.api as smf\n",
    "import statsmodels.api as sm\n",
    "import numpy as np\n",
    "import pandas as pd\n",
    "\n",
    "# Graphic libraries\n",
    "import matplotlib as mpl\n",
    "import matplotlib.pyplot as plt\n",
    "from matplotlib import rcParams\n",
    "# import japanize_matplotlib\n",
    "import seaborn as sns\n",
    "# import holoviews as hv\n",
    "# from bokeh.io import output_notebook\n",
    "# output_notebook()\n",
    "# from bokeh.io import show\n",
    "%matplotlib inline\n",
    "%config InlineBackend.figure_formats = {'png', 'retina'}\n",
    "# from ipywidgets import interact # Interactive graph\n",
    "\n",
    "# Statistical libraries\n",
    "# import statsmodels.stats as stats\n",
    "# import statsmodels.stats.multicomp as multi\n",
    "# import statsmodels.formula.api as smf\n",
    "# import scikit_posthocs as sp\n",
    "\n",
    "# Other libraries\n",
    "# import re\n",
    "# from datetime import datetime\n",
    "# import collections\n",
    "\n",
    "# Creating alias for magic commands\n",
    "%alias_magic t time\n",
    "\n",
    "from icecream import ic\n",
    "\n",
    "import requests\n",
    "import zipfile\n",
    "import math\n",
    "from scipy.stats import poisson\n",
    "import os.path\n",
    "\n",
    "rcParams['font.size'] = 12\n",
    "rcParams['figure.figsize'] = (6, 6)"
   ]
  },
  {
   "cell_type": "code",
   "execution_count": 2,
   "metadata": {},
   "outputs": [
    {
     "data": {
      "text/html": [
       "<div>\n",
       "<style scoped>\n",
       "    .dataframe tbody tr th:only-of-type {\n",
       "        vertical-align: middle;\n",
       "    }\n",
       "\n",
       "    .dataframe tbody tr th {\n",
       "        vertical-align: top;\n",
       "    }\n",
       "\n",
       "    .dataframe thead th {\n",
       "        text-align: right;\n",
       "    }\n",
       "</style>\n",
       "<table border=\"1\" class=\"dataframe\">\n",
       "  <thead>\n",
       "    <tr style=\"text-align: right;\">\n",
       "      <th></th>\n",
       "      <th>y</th>\n",
       "      <th>x</th>\n",
       "      <th>f</th>\n",
       "      <th>d</th>\n",
       "    </tr>\n",
       "  </thead>\n",
       "  <tbody>\n",
       "    <tr>\n",
       "      <th>0</th>\n",
       "      <td>6</td>\n",
       "      <td>8.31</td>\n",
       "      <td>C</td>\n",
       "      <td>0</td>\n",
       "    </tr>\n",
       "    <tr>\n",
       "      <th>1</th>\n",
       "      <td>6</td>\n",
       "      <td>9.44</td>\n",
       "      <td>C</td>\n",
       "      <td>0</td>\n",
       "    </tr>\n",
       "    <tr>\n",
       "      <th>2</th>\n",
       "      <td>6</td>\n",
       "      <td>9.50</td>\n",
       "      <td>C</td>\n",
       "      <td>0</td>\n",
       "    </tr>\n",
       "    <tr>\n",
       "      <th>3</th>\n",
       "      <td>12</td>\n",
       "      <td>9.07</td>\n",
       "      <td>C</td>\n",
       "      <td>0</td>\n",
       "    </tr>\n",
       "    <tr>\n",
       "      <th>4</th>\n",
       "      <td>10</td>\n",
       "      <td>10.16</td>\n",
       "      <td>C</td>\n",
       "      <td>0</td>\n",
       "    </tr>\n",
       "    <tr>\n",
       "      <th>...</th>\n",
       "      <td>...</td>\n",
       "      <td>...</td>\n",
       "      <td>...</td>\n",
       "      <td>...</td>\n",
       "    </tr>\n",
       "    <tr>\n",
       "      <th>95</th>\n",
       "      <td>8</td>\n",
       "      <td>9.15</td>\n",
       "      <td>T</td>\n",
       "      <td>1</td>\n",
       "    </tr>\n",
       "    <tr>\n",
       "      <th>96</th>\n",
       "      <td>6</td>\n",
       "      <td>8.52</td>\n",
       "      <td>T</td>\n",
       "      <td>1</td>\n",
       "    </tr>\n",
       "    <tr>\n",
       "      <th>97</th>\n",
       "      <td>8</td>\n",
       "      <td>10.24</td>\n",
       "      <td>T</td>\n",
       "      <td>1</td>\n",
       "    </tr>\n",
       "    <tr>\n",
       "      <th>98</th>\n",
       "      <td>7</td>\n",
       "      <td>10.86</td>\n",
       "      <td>T</td>\n",
       "      <td>1</td>\n",
       "    </tr>\n",
       "    <tr>\n",
       "      <th>99</th>\n",
       "      <td>9</td>\n",
       "      <td>9.97</td>\n",
       "      <td>T</td>\n",
       "      <td>1</td>\n",
       "    </tr>\n",
       "  </tbody>\n",
       "</table>\n",
       "<p>100 rows × 4 columns</p>\n",
       "</div>"
      ],
      "text/plain": [
       "     y      x  f  d\n",
       "0    6   8.31  C  0\n",
       "1    6   9.44  C  0\n",
       "2    6   9.50  C  0\n",
       "3   12   9.07  C  0\n",
       "4   10  10.16  C  0\n",
       "..  ..    ... .. ..\n",
       "95   8   9.15  T  1\n",
       "96   6   8.52  T  1\n",
       "97   8  10.24  T  1\n",
       "98   7  10.86  T  1\n",
       "99   9   9.97  T  1\n",
       "\n",
       "[100 rows x 4 columns]"
      ]
     },
     "execution_count": 2,
     "metadata": {},
     "output_type": "execute_result"
    }
   ],
   "source": [
    "# 著者サイトからdata3a.csvをダウンロード\n",
    "response = requests.get('https://kuboweb.github.io/-kubo/stat/iwanamibook/fig/poisson/data3a.csv')\n",
    "file_name = \"data3a.csv\"\n",
    "\n",
    "if not os.path.exists(file_name):\n",
    "    with open (file_name, 'wb') as f:\n",
    "        f.write(response.content)\n",
    "        f.close()\n",
    "data = pd.read_csv(file_name)\n",
    "\n",
    "data[\"d\"] = (data[\"f\"] == \"T\")*1\n",
    "data"
   ]
  },
  {
   "cell_type": "markdown",
   "metadata": {
    "slideshow": {
     "slide_type": "fragment"
    }
   },
   "source": [
    "$$\n",
    "\\begin{align}\n",
    "  x &\\stackrel{\\text{def}}{=} \\text{体サイズ} \\\\\n",
    "  y &\\stackrel{\\text{def}}{=} \\text{種子数} \\\\\n",
    "  f &\\stackrel{\\text{def}}{=} \\text{施肥の有無} \\\\\n",
    "\\end{align}\n",
    "$$"
   ]
  },
  {
   "cell_type": "code",
   "execution_count": 3,
   "metadata": {},
   "outputs": [
    {
     "data": {
      "text/html": [
       "<div>\n",
       "<style scoped>\n",
       "    .dataframe tbody tr th:only-of-type {\n",
       "        vertical-align: middle;\n",
       "    }\n",
       "\n",
       "    .dataframe tbody tr th {\n",
       "        vertical-align: top;\n",
       "    }\n",
       "\n",
       "    .dataframe thead th {\n",
       "        text-align: right;\n",
       "    }\n",
       "</style>\n",
       "<table border=\"1\" class=\"dataframe\">\n",
       "  <thead>\n",
       "    <tr style=\"text-align: right;\">\n",
       "      <th></th>\n",
       "      <th>y</th>\n",
       "      <th>x</th>\n",
       "      <th>f</th>\n",
       "      <th>d</th>\n",
       "    </tr>\n",
       "  </thead>\n",
       "  <tbody>\n",
       "    <tr>\n",
       "      <th>count</th>\n",
       "      <td>100.000000</td>\n",
       "      <td>100.000000</td>\n",
       "      <td>100</td>\n",
       "      <td>100.000000</td>\n",
       "    </tr>\n",
       "    <tr>\n",
       "      <th>unique</th>\n",
       "      <td>NaN</td>\n",
       "      <td>NaN</td>\n",
       "      <td>2</td>\n",
       "      <td>NaN</td>\n",
       "    </tr>\n",
       "    <tr>\n",
       "      <th>top</th>\n",
       "      <td>NaN</td>\n",
       "      <td>NaN</td>\n",
       "      <td>T</td>\n",
       "      <td>NaN</td>\n",
       "    </tr>\n",
       "    <tr>\n",
       "      <th>freq</th>\n",
       "      <td>NaN</td>\n",
       "      <td>NaN</td>\n",
       "      <td>50</td>\n",
       "      <td>NaN</td>\n",
       "    </tr>\n",
       "    <tr>\n",
       "      <th>mean</th>\n",
       "      <td>7.830000</td>\n",
       "      <td>10.089100</td>\n",
       "      <td>NaN</td>\n",
       "      <td>0.500000</td>\n",
       "    </tr>\n",
       "    <tr>\n",
       "      <th>std</th>\n",
       "      <td>2.624881</td>\n",
       "      <td>1.008049</td>\n",
       "      <td>NaN</td>\n",
       "      <td>0.502519</td>\n",
       "    </tr>\n",
       "    <tr>\n",
       "      <th>min</th>\n",
       "      <td>2.000000</td>\n",
       "      <td>7.190000</td>\n",
       "      <td>NaN</td>\n",
       "      <td>0.000000</td>\n",
       "    </tr>\n",
       "    <tr>\n",
       "      <th>25%</th>\n",
       "      <td>6.000000</td>\n",
       "      <td>9.427500</td>\n",
       "      <td>NaN</td>\n",
       "      <td>0.000000</td>\n",
       "    </tr>\n",
       "    <tr>\n",
       "      <th>50%</th>\n",
       "      <td>8.000000</td>\n",
       "      <td>10.155000</td>\n",
       "      <td>NaN</td>\n",
       "      <td>0.500000</td>\n",
       "    </tr>\n",
       "    <tr>\n",
       "      <th>75%</th>\n",
       "      <td>10.000000</td>\n",
       "      <td>10.685000</td>\n",
       "      <td>NaN</td>\n",
       "      <td>1.000000</td>\n",
       "    </tr>\n",
       "    <tr>\n",
       "      <th>max</th>\n",
       "      <td>15.000000</td>\n",
       "      <td>12.400000</td>\n",
       "      <td>NaN</td>\n",
       "      <td>1.000000</td>\n",
       "    </tr>\n",
       "  </tbody>\n",
       "</table>\n",
       "</div>"
      ],
      "text/plain": [
       "                 y           x    f           d\n",
       "count   100.000000  100.000000  100  100.000000\n",
       "unique         NaN         NaN    2         NaN\n",
       "top            NaN         NaN    T         NaN\n",
       "freq           NaN         NaN   50         NaN\n",
       "mean      7.830000   10.089100  NaN    0.500000\n",
       "std       2.624881    1.008049  NaN    0.502519\n",
       "min       2.000000    7.190000  NaN    0.000000\n",
       "25%       6.000000    9.427500  NaN    0.000000\n",
       "50%       8.000000   10.155000  NaN    0.500000\n",
       "75%      10.000000   10.685000  NaN    1.000000\n",
       "max      15.000000   12.400000  NaN    1.000000"
      ]
     },
     "metadata": {},
     "output_type": "display_data"
    },
    {
     "data": {
      "text/plain": [
       "f\n",
       "T    50\n",
       "C    50\n",
       "dtype: int64"
      ]
     },
     "metadata": {},
     "output_type": "display_data"
    },
    {
     "name": "stdout",
     "output_type": "stream",
     "text": [
      "variance:\n"
     ]
    },
    {
     "data": {
      "text/plain": [
       "y    6.890000\n",
       "x    1.016162\n",
       "d    0.252525\n",
       "dtype: float64"
      ]
     },
     "metadata": {},
     "output_type": "display_data"
    },
    {
     "name": "stdout",
     "output_type": "stream",
     "text": [
      "standard error:\n"
     ]
    },
    {
     "data": {
      "text/plain": [
       "y    0.262488\n",
       "x    0.100805\n",
       "d    0.050252\n",
       "dtype: float64"
      ]
     },
     "metadata": {},
     "output_type": "display_data"
    }
   ],
   "source": [
    "display(data.describe(include=\"all\"))\n",
    "display(data.value_counts(\"f\"))\n",
    "\n",
    "print(\"variance:\")\n",
    "display(data.var())\n",
    "\n",
    "print(\"standard error:\")\n",
    "display(data.sem())"
   ]
  },
  {
   "cell_type": "code",
   "execution_count": 4,
   "metadata": {
    "scrolled": false
   },
   "outputs": [
    {
     "data": {
      "image/png": "[encoded data removed]",
      "text/plain": [
       "<Figure size 582.875x540 with 12 Axes>"
      ]
     },
     "metadata": {
      "image/png": {
       "height": 530,
       "width": 580
      },
      "needs_background": "light"
     },
     "output_type": "display_data"
    }
   ],
   "source": [
    "sns.pairplot(data=data,\n",
    "             hue=\"f\",\n",
    "             diag_kind=\"hist\")\n",
    "plt.show()"
   ]
  },
  {
   "cell_type": "code",
   "execution_count": 5,
   "metadata": {
    "scrolled": false,
    "slideshow": {
     "slide_type": "fragment"
    }
   },
   "outputs": [
    {
     "data": {
      "text/html": [
       "<table class=\"simpletable\">\n",
       "<caption>Generalized Linear Model Regression Results</caption>\n",
       "<tr>\n",
       "  <th>Dep. Variable:</th>          <td>y</td>        <th>  No. Observations:  </th>  <td>   100</td>  \n",
       "</tr>\n",
       "<tr>\n",
       "  <th>Model:</th>                 <td>GLM</td>       <th>  Df Residuals:      </th>  <td>    98</td>  \n",
       "</tr>\n",
       "<tr>\n",
       "  <th>Model Family:</th>        <td>Poisson</td>     <th>  Df Model:          </th>  <td>     1</td>  \n",
       "</tr>\n",
       "<tr>\n",
       "  <th>Link Function:</th>         <td>log</td>       <th>  Scale:             </th> <td>  1.0000</td> \n",
       "</tr>\n",
       "<tr>\n",
       "  <th>Method:</th>               <td>IRLS</td>       <th>  Log-Likelihood:    </th> <td> -235.39</td> \n",
       "</tr>\n",
       "<tr>\n",
       "  <th>Date:</th>           <td>Tue, 02 Feb 2021</td> <th>  Deviance:          </th> <td>  84.993</td> \n",
       "</tr>\n",
       "<tr>\n",
       "  <th>Time:</th>               <td>17:55:32</td>     <th>  Pearson chi2:      </th>  <td>  83.8</td>  \n",
       "</tr>\n",
       "<tr>\n",
       "  <th>No. Iterations:</th>         <td>4</td>        <th>  Covariance Type:   </th> <td>nonrobust</td>\n",
       "</tr>\n",
       "</table>\n",
       "<table class=\"simpletable\">\n",
       "<tr>\n",
       "    <td></td>       <th>coef</th>     <th>std err</th>      <th>z</th>      <th>P>|z|</th>  <th>[0.025</th>    <th>0.975]</th>  \n",
       "</tr>\n",
       "<tr>\n",
       "  <th>const</th> <td>    1.2917</td> <td>    0.364</td> <td>    3.552</td> <td> 0.000</td> <td>    0.579</td> <td>    2.005</td>\n",
       "</tr>\n",
       "<tr>\n",
       "  <th>x</th>     <td>    0.0757</td> <td>    0.036</td> <td>    2.125</td> <td> 0.034</td> <td>    0.006</td> <td>    0.145</td>\n",
       "</tr>\n",
       "</table>"
      ],
      "text/plain": [
       "<class 'statsmodels.iolib.summary.Summary'>\n",
       "\"\"\"\n",
       "                 Generalized Linear Model Regression Results                  \n",
       "==============================================================================\n",
       "Dep. Variable:                      y   No. Observations:                  100\n",
       "Model:                            GLM   Df Residuals:                       98\n",
       "Model Family:                 Poisson   Df Model:                            1\n",
       "Link Function:                    log   Scale:                          1.0000\n",
       "Method:                          IRLS   Log-Likelihood:                -235.39\n",
       "Date:                Tue, 02 Feb 2021   Deviance:                       84.993\n",
       "Time:                        17:55:32   Pearson chi2:                     83.8\n",
       "No. Iterations:                     4   Covariance Type:             nonrobust\n",
       "==============================================================================\n",
       "                 coef    std err          z      P>|z|      [0.025      0.975]\n",
       "------------------------------------------------------------------------------\n",
       "const          1.2917      0.364      3.552      0.000       0.579       2.005\n",
       "x              0.0757      0.036      2.125      0.034       0.006       0.145\n",
       "==============================================================================\n",
       "\"\"\""
      ]
     },
     "metadata": {},
     "output_type": "display_data"
    },
    {
     "name": "stdout",
     "output_type": "stream",
     "text": [
      "Deviance: 470.7725015397216\n",
      "Residual Deviance: 84.9929964907296\n",
      "Min. Deviance: 385.779505048992\n",
      "Max. Deviance: 475.2864426185734\n",
      "AIC: 474.7725015397216\n",
      "\n",
      "Maximum Likelihood of Full model: -192.8897525244958\n",
      "Min. of Deviance: 385.7795050489916\n"
     ]
    }
   ],
   "source": [
    "params = {}\n",
    "\n",
    "# in R;\n",
    "# $ fit <- glm(y ~ x, data=d, family=poisson)\n",
    "# $ print(fit)\n",
    "\n",
    "params[\"x model\"] = {}\n",
    "\n",
    "x_model_fitted = sm.GLM(data[\"y\"], # 応答変数\n",
    "                        sm.add_constant(data[\"x\"]), # 切片つき説明変数, 複数列も可\n",
    "                        family=sm.families.Poisson() # 分布の指定\n",
    "                       ).fit()\n",
    "\n",
    "display(x_model_fitted.summary())\n",
    "\n",
    "params[\"x model\"][\"b_1\"] = x_model_fitted.params[\"const\"]\n",
    "params[\"x model\"][\"b_2\"] = x_model_fitted.params[\"x\"]\n",
    "params[\"x model\"][\"log-likelihood\"] = x_model_fitted.llf\n",
    "params[\"x model\"][\"D\"] = -2*x_model_fitted.llf\n",
    "params[\"x model\"][\"resid.D\"] = x_model_fitted.deviance\n",
    "params[\"x model\"][\"null.D\"] = x_model_fitted.null_deviance\n",
    "params[\"x model\"][\"AIC\"] = x_model_fitted.aic\n",
    "\n",
    "print(\"Deviance: {}\".format(params[\"x model\"][\"D\"]))\n",
    "print(\"Residual Deviance: {}\".format(params[\"x model\"][\"resid.D\"]))\n",
    "print(\"Min. Deviance: {}\".format(params[\"x model\"][\"D\"] \\\n",
    "                                 - params[\"x model\"][\"resid.D\"]))\n",
    "print(\"Max. Deviance: {}\".format(params[\"x model\"][\"D\"] \\\n",
    "                                 - params[\"x model\"][\"resid.D\"] \\\n",
    "                                 + params[\"x model\"][\"null.D\"]))\n",
    "\n",
    "print(\"AIC: {}\".format(x_model_fitted.aic))\n",
    "# print(\"BIC: {}\".format(x_model_fitted.bic))\n",
    "\n",
    "print()\n",
    "mlh_full = sum([poisson.logpmf(y_i, y_i) for y_i in data[\"y\"]])\n",
    "print(\"Maximum Likelihood of Full model: {}\".format(mlh_full))\n",
    "print(\"Min. of Deviance: {}\".format(-2*mlh_full))"
   ]
  },
  {
   "cell_type": "code",
   "execution_count": 6,
   "metadata": {},
   "outputs": [
    {
     "data": {
      "text/html": [
       "<table class=\"simpletable\">\n",
       "<caption>Generalized Linear Model Regression Results</caption>\n",
       "<tr>\n",
       "  <th>Dep. Variable:</th>          <td>y</td>        <th>  No. Observations:  </th>  <td>   100</td>  \n",
       "</tr>\n",
       "<tr>\n",
       "  <th>Model:</th>                 <td>GLM</td>       <th>  Df Residuals:      </th>  <td>    99</td>  \n",
       "</tr>\n",
       "<tr>\n",
       "  <th>Model Family:</th>        <td>Poisson</td>     <th>  Df Model:          </th>  <td>     0</td>  \n",
       "</tr>\n",
       "<tr>\n",
       "  <th>Link Function:</th>         <td>log</td>       <th>  Scale:             </th> <td>  1.0000</td> \n",
       "</tr>\n",
       "<tr>\n",
       "  <th>Method:</th>               <td>IRLS</td>       <th>  Log-Likelihood:    </th> <td> -237.64</td> \n",
       "</tr>\n",
       "<tr>\n",
       "  <th>Date:</th>           <td>Tue, 02 Feb 2021</td> <th>  Deviance:          </th> <td>  89.507</td> \n",
       "</tr>\n",
       "<tr>\n",
       "  <th>Time:</th>               <td>17:55:35</td>     <th>  Pearson chi2:      </th>  <td>  87.1</td>  \n",
       "</tr>\n",
       "<tr>\n",
       "  <th>No. Iterations:</th>         <td>4</td>        <th>  Covariance Type:   </th> <td>nonrobust</td>\n",
       "</tr>\n",
       "</table>\n",
       "<table class=\"simpletable\">\n",
       "<tr>\n",
       "    <td></td>       <th>coef</th>     <th>std err</th>      <th>z</th>      <th>P>|z|</th>  <th>[0.025</th>    <th>0.975]</th>  \n",
       "</tr>\n",
       "<tr>\n",
       "  <th>const</th> <td>    2.0580</td> <td>    0.036</td> <td>   57.586</td> <td> 0.000</td> <td>    1.988</td> <td>    2.128</td>\n",
       "</tr>\n",
       "</table>"
      ],
      "text/plain": [
       "<class 'statsmodels.iolib.summary.Summary'>\n",
       "\"\"\"\n",
       "                 Generalized Linear Model Regression Results                  \n",
       "==============================================================================\n",
       "Dep. Variable:                      y   No. Observations:                  100\n",
       "Model:                            GLM   Df Residuals:                       99\n",
       "Model Family:                 Poisson   Df Model:                            0\n",
       "Link Function:                    log   Scale:                          1.0000\n",
       "Method:                          IRLS   Log-Likelihood:                -237.64\n",
       "Date:                Tue, 02 Feb 2021   Deviance:                       89.507\n",
       "Time:                        17:55:35   Pearson chi2:                     87.1\n",
       "No. Iterations:                     4   Covariance Type:             nonrobust\n",
       "==============================================================================\n",
       "                 coef    std err          z      P>|z|      [0.025      0.975]\n",
       "------------------------------------------------------------------------------\n",
       "const          2.0580      0.036     57.586      0.000       1.988       2.128\n",
       "==============================================================================\n",
       "\"\"\""
      ]
     },
     "metadata": {},
     "output_type": "display_data"
    },
    {
     "name": "stdout",
     "output_type": "stream",
     "text": [
      "Deviance: 475.2864426185736\n",
      "Max. Deviance: 475.28644261857363\n",
      "AIC: 477.2864426185736\n"
     ]
    }
   ],
   "source": [
    "params[\"null model\"] = {}\n",
    "\n",
    "null_model_fitted = sm.GLM(data[\"y\"], # 応答変数\n",
    "                        np.ones(len(data)), # Nullの説明変数\n",
    "                        family=sm.families.Poisson() # 分布の指定\n",
    "                       ).fit()\n",
    "\n",
    "display(null_model_fitted.summary())\n",
    "\n",
    "params[\"null model\"][\"b_1\"] = null_model_fitted.params[\"const\"]\n",
    "params[\"null model\"][\"log-likelihood\"] = null_model_fitted.llf\n",
    "params[\"null model\"][\"D\"] = -2*null_model_fitted.llf\n",
    "params[\"null model\"][\"resid.D\"] = null_model_fitted.deviance\n",
    "params[\"null model\"][\"null.D\"] = null_model_fitted.null_deviance\n",
    "params[\"null model\"][\"AIC\"] = null_model_fitted.aic\n",
    "\n",
    "print(\"Deviance: {}\".format(params[\"null model\"][\"D\"]))\n",
    "print(\"Max. Deviance: {}\".format(params[\"null model\"][\"D\"] \\\n",
    "                                 - params[\"null model\"][\"resid.D\"] \\\n",
    "                                 + params[\"null model\"][\"null.D\"]))\n",
    "\n",
    "print(\"AIC: {}\".format(null_model_fitted.aic))\n",
    "# print(\"BIC: {}\".format(null_model_fitted.bic))"
   ]
  },
  {
   "cell_type": "markdown",
   "metadata": {
    "slideshow": {
     "slide_type": "fragment"
    }
   },
   "source": [
    "# 尤度比検定\n",
    "\n",
    "逸脱度の差に注目した検定\n",
    "\n",
    "## 尤度比\n",
    "\n",
    "$\\frac{L_{2}^{*}}{L_{2}^{*}}$\n",
    "\n",
    "## 逸脱度の差\n",
    "\n",
    "$$\n",
    "\\begin{align}\n",
    "  \\Delta D_{1, 2} &\\stackrel{\\text{def}}{=} \\text{逸脱度} & \\left( = -2(\\log{L_{1}^{*}} - \\log{L_{2}^{*}}) \\right) \\\\\n",
    "\\end{align}\n",
    "$$"
   ]
  },
  {
   "cell_type": "code",
   "execution_count": 80,
   "metadata": {},
   "outputs": [
    {
     "name": "stdout",
     "output_type": "stream",
     "text": [
      "Deviance of Null Model:\n",
      "475.2864426185736\n",
      "\n",
      "Deviance of x-Model:\n",
      "470.7725015397216\n",
      "\n",
      "Difference of Deviances between 2 models:\n",
      "4.513941078851985\n",
      "\n"
     ]
    }
   ],
   "source": [
    "print(\"Deviance of Null Model:\")\n",
    "print(params[\"null model\"][\"D\"],\n",
    "      \"\\n\",\n",
    "      sep=\"\")\n",
    "\n",
    "print(\"Deviance of x-Model:\")\n",
    "print(params[\"x model\"][\"D\"],\n",
    "      \"\\n\",\n",
    "      sep=\"\")\n",
    "\n",
    "diff_dev = params[\"null model\"][\"D\"] \\\n",
    "           - params[\"x model\"][\"D\"]\n",
    "print(\"Difference of Deviances between 2 models:\")\n",
    "print(diff_dev,\n",
    "      \"\\n\",\n",
    "      sep=\"\")"
   ]
  },
  {
   "cell_type": "markdown",
   "metadata": {
    "variables": {
     "diff_dev": "4.513941078851985",
     "params[\"null model\"][\"b_1\"]": "2.0579625100027115"
    }
   },
   "source": [
    "# parametric bootstrapping\n",
    "\n",
    "パラメトリックブートストラップ法\n",
    "\n",
    "- **帰無仮説**: null model (パラメータ数 $k = 1$, $\\beta_2 = 0$)\n",
    "- **対立仮説**: `x` model (パラメータ数 $k = 2$, $\\beta_2 \\neq 0$)\n",
    "\n",
    "$\\Delta D_{1, 2} = $ {{diff_dev}} が珍しいのかどうかを調べる\n",
    "\n",
    "1. 帰無仮説であるnull modelが正しいとする\n",
    "2. 観測データにnull model(正しいはずのモデル)をあてはめる\n",
    "3. フィッティングした結果得られたnull modelの$\\hat{\\beta_1} =$ {{params[\"null model\"][\"b_1\"]}}が真のモデルのそれと同じと考える\n",
    "4. このモデル($y = e^{\\beta_1}$)からデータを何度も生成する\n",
    "5. データ生成の度に，帰無仮説で採用するモデル(null model)と対立仮説で採用するモデル(`x` model)の逸脱度差を計算する\n",
    "6. $\\Delta D_{1, 2}$の分布が得られる\n",
    "7. $\\Delta D_{1, 2} \\ge$ {{diff_dev}}となる確率$P$を評価できる\n",
    "8. $P$が十分に小さく珍しいならば，前提(\"null modelが正しい\")に間違いがあったといえる\n",
    "9. 対立仮説を採用する"
   ]
  },
  {
   "cell_type": "code",
   "execution_count": 82,
   "metadata": {},
   "outputs": [
    {
     "name": "stdout",
     "output_type": "stream",
     "text": [
      "7.829999999999998\n",
      "7.83\n"
     ]
    },
    {
     "data": {
      "text/html": [
       "<div>\n",
       "<style scoped>\n",
       "    .dataframe tbody tr th:only-of-type {\n",
       "        vertical-align: middle;\n",
       "    }\n",
       "\n",
       "    .dataframe tbody tr th {\n",
       "        vertical-align: top;\n",
       "    }\n",
       "\n",
       "    .dataframe thead th {\n",
       "        text-align: right;\n",
       "    }\n",
       "</style>\n",
       "<table border=\"1\" class=\"dataframe\">\n",
       "  <thead>\n",
       "    <tr style=\"text-align: right;\">\n",
       "      <th></th>\n",
       "      <th>y</th>\n",
       "      <th>x</th>\n",
       "      <th>f</th>\n",
       "      <th>d</th>\n",
       "      <th>rand</th>\n",
       "    </tr>\n",
       "  </thead>\n",
       "  <tbody>\n",
       "    <tr>\n",
       "      <th>0</th>\n",
       "      <td>6</td>\n",
       "      <td>8.31</td>\n",
       "      <td>C</td>\n",
       "      <td>0</td>\n",
       "      <td>5</td>\n",
       "    </tr>\n",
       "    <tr>\n",
       "      <th>1</th>\n",
       "      <td>6</td>\n",
       "      <td>9.44</td>\n",
       "      <td>C</td>\n",
       "      <td>0</td>\n",
       "      <td>9</td>\n",
       "    </tr>\n",
       "    <tr>\n",
       "      <th>2</th>\n",
       "      <td>6</td>\n",
       "      <td>9.50</td>\n",
       "      <td>C</td>\n",
       "      <td>0</td>\n",
       "      <td>13</td>\n",
       "    </tr>\n",
       "    <tr>\n",
       "      <th>3</th>\n",
       "      <td>12</td>\n",
       "      <td>9.07</td>\n",
       "      <td>C</td>\n",
       "      <td>0</td>\n",
       "      <td>10</td>\n",
       "    </tr>\n",
       "    <tr>\n",
       "      <th>4</th>\n",
       "      <td>10</td>\n",
       "      <td>10.16</td>\n",
       "      <td>C</td>\n",
       "      <td>0</td>\n",
       "      <td>12</td>\n",
       "    </tr>\n",
       "    <tr>\n",
       "      <th>...</th>\n",
       "      <td>...</td>\n",
       "      <td>...</td>\n",
       "      <td>...</td>\n",
       "      <td>...</td>\n",
       "      <td>...</td>\n",
       "    </tr>\n",
       "    <tr>\n",
       "      <th>95</th>\n",
       "      <td>8</td>\n",
       "      <td>9.15</td>\n",
       "      <td>T</td>\n",
       "      <td>1</td>\n",
       "      <td>8</td>\n",
       "    </tr>\n",
       "    <tr>\n",
       "      <th>96</th>\n",
       "      <td>6</td>\n",
       "      <td>8.52</td>\n",
       "      <td>T</td>\n",
       "      <td>1</td>\n",
       "      <td>9</td>\n",
       "    </tr>\n",
       "    <tr>\n",
       "      <th>97</th>\n",
       "      <td>8</td>\n",
       "      <td>10.24</td>\n",
       "      <td>T</td>\n",
       "      <td>1</td>\n",
       "      <td>4</td>\n",
       "    </tr>\n",
       "    <tr>\n",
       "      <th>98</th>\n",
       "      <td>7</td>\n",
       "      <td>10.86</td>\n",
       "      <td>T</td>\n",
       "      <td>1</td>\n",
       "      <td>4</td>\n",
       "    </tr>\n",
       "    <tr>\n",
       "      <th>99</th>\n",
       "      <td>9</td>\n",
       "      <td>9.97</td>\n",
       "      <td>T</td>\n",
       "      <td>1</td>\n",
       "      <td>10</td>\n",
       "    </tr>\n",
       "  </tbody>\n",
       "</table>\n",
       "<p>100 rows × 5 columns</p>\n",
       "</div>"
      ],
      "text/plain": [
       "     y      x  f  d  rand\n",
       "0    6   8.31  C  0     5\n",
       "1    6   9.44  C  0     9\n",
       "2    6   9.50  C  0    13\n",
       "3   12   9.07  C  0    10\n",
       "4   10  10.16  C  0    12\n",
       "..  ..    ... .. ..   ...\n",
       "95   8   9.15  T  1     8\n",
       "96   6   8.52  T  1     9\n",
       "97   8  10.24  T  1     4\n",
       "98   7  10.86  T  1     4\n",
       "99   9   9.97  T  1    10\n",
       "\n",
       "[100 rows x 5 columns]"
      ]
     },
     "metadata": {},
     "output_type": "display_data"
    },
    {
     "name": "stdout",
     "output_type": "stream",
     "text": [
      "Difference of deviance between null model and x-model:\n",
      "0.5563995490421689\n"
     ]
    }
   ],
   "source": [
    "print(np.exp(params[\"null model\"][\"b_1\"]))\n",
    "print(data[\"y\"].mean())\n",
    "\n",
    "data[\"rand\"] = np.random.poisson(lam=data[\"y\"].mean(),\n",
    "                                 size=data.shape[0])\n",
    "display(data)\n",
    "\n",
    "llf1 = sm.GLM(data[\"rand\"], np.ones(len(data)),\n",
    "              family=sm.families.Poisson()).fit().llf\n",
    "deviance1 = -2*llf1\n",
    "llf2 = sm.GLM(data[\"rand\"], sm.add_constant(data[\"x\"]),\n",
    "              family=sm.families.Poisson()).fit().llf\n",
    "deviance2 = -2*llf2\n",
    "\n",
    "print(\"Difference of deviance between null model and x-model:\")\n",
    "print(deviance1 - deviance2)"
   ]
  },
  {
   "cell_type": "code",
   "execution_count": 94,
   "metadata": {},
   "outputs": [],
   "source": [
    "def get_dif_dev(d, x_col, y_col, family):\n",
    "    \"\"\"Return Difference of Deviance between null model & x_col-model.\n",
    "    \"\"\"\n",
    "    num_sample = d.shape[0]\n",
    "    mean_sample = d[y_col].mean()\n",
    "    d[\"rand\"] = np.random.poisson(mean_sample, num_sample)\n",
    "    \n",
    "    deviance1 = -2*(sm.GLM(d[\"rand\"],\n",
    "                           np.ones(num_sample),\n",
    "                           family=family).fit().llf)\n",
    "    deviance2 = -2*(sm.GLM(d[\"rand\"],\n",
    "                           sm.add_constant(d[x_col]),\n",
    "                           family=family).fit().llf)\n",
    "    return deviance1 - deviance2\n",
    "\n",
    "def deviance_distribution(d, x_col, y_col, family,\n",
    "                          num_bootstrap):\n",
    "    \"\"\"Return distribution of difference of deviance.\n",
    "    \"\"\"\n",
    "    result = []\n",
    "    for i in range(num_bootstrap):\n",
    "        result.append(get_dif_dev(d, x_col, y_col, family))\n",
    "    return result"
   ]
  },
  {
   "cell_type": "code",
   "execution_count": 92,
   "metadata": {
    "scrolled": true
   },
   "outputs": [],
   "source": [
    "dev_dist = deviance_distribution(data, \"x\", \"y\",\n",
    "                                 sm.families.Poisson(),\n",
    "                                 3000)"
   ]
  },
  {
   "cell_type": "code",
   "execution_count": 194,
   "metadata": {},
   "outputs": [
    {
     "data": {
      "image/png": "[encoded data removed]",
      "text/plain": [
       "<Figure size 576x576 with 1 Axes>"
      ]
     },
     "metadata": {
      "image/png": {
       "height": 473,
       "width": 639
      },
      "needs_background": "light"
     },
     "output_type": "display_data"
    },
    {
     "data": {
      "text/html": [
       "<div>\n",
       "<style scoped>\n",
       "    .dataframe tbody tr th:only-of-type {\n",
       "        vertical-align: middle;\n",
       "    }\n",
       "\n",
       "    .dataframe tbody tr th {\n",
       "        vertical-align: top;\n",
       "    }\n",
       "\n",
       "    .dataframe thead th {\n",
       "        text-align: right;\n",
       "    }\n",
       "</style>\n",
       "<table border=\"1\" class=\"dataframe\">\n",
       "  <thead>\n",
       "    <tr style=\"text-align: right;\">\n",
       "      <th></th>\n",
       "      <th>dif_dev</th>\n",
       "    </tr>\n",
       "  </thead>\n",
       "  <tbody>\n",
       "    <tr>\n",
       "      <th>count</th>\n",
       "      <td>3.000000e+03</td>\n",
       "    </tr>\n",
       "    <tr>\n",
       "      <th>mean</th>\n",
       "      <td>1.010958e+00</td>\n",
       "    </tr>\n",
       "    <tr>\n",
       "      <th>std</th>\n",
       "      <td>1.416947e+00</td>\n",
       "    </tr>\n",
       "    <tr>\n",
       "      <th>min</th>\n",
       "      <td>4.324962e-07</td>\n",
       "    </tr>\n",
       "    <tr>\n",
       "      <th>25%</th>\n",
       "      <td>1.052020e-01</td>\n",
       "    </tr>\n",
       "    <tr>\n",
       "      <th>50%</th>\n",
       "      <td>4.700351e-01</td>\n",
       "    </tr>\n",
       "    <tr>\n",
       "      <th>75%</th>\n",
       "      <td>1.359082e+00</td>\n",
       "    </tr>\n",
       "    <tr>\n",
       "      <th>max</th>\n",
       "      <td>1.878351e+01</td>\n",
       "    </tr>\n",
       "  </tbody>\n",
       "</table>\n",
       "</div>"
      ],
      "text/plain": [
       "            dif_dev\n",
       "count  3.000000e+03\n",
       "mean   1.010958e+00\n",
       "std    1.416947e+00\n",
       "min    4.324962e-07\n",
       "25%    1.052020e-01\n",
       "50%    4.700351e-01\n",
       "75%    1.359082e+00\n",
       "max    1.878351e+01"
      ]
     },
     "metadata": {},
     "output_type": "display_data"
    },
    {
     "name": "stdout",
     "output_type": "stream",
     "text": [
      "p-value:\n",
      "0.03266666666666666\n",
      "Difference of Deviance of p < 0.05:\n",
      "3.8187044560257326\n"
     ]
    }
   ],
   "source": [
    "# Set parameters\n",
    "fontsize = 16\n",
    "figsize = (8, 8)\n",
    "\n",
    "rcParams['font.size'] = fontsize\n",
    "rcParams['figure.figsize'] = figsize\n",
    "\n",
    "# Generate Figure & Axes instances\n",
    "fig = plt.figure()\n",
    "ax = fig.add_subplot(1, 1, 1)\n",
    "\n",
    "ax.hist(dev_dist,\n",
    "        color=\"white\",\n",
    "        edgecolor=\"black\",\n",
    "        bins=20)\n",
    "\n",
    "ax.axvline(diff_dev,\n",
    "           color=\"orangered\",\n",
    "           label=\"$\\Delta D_{1, 2}$\")\n",
    "ax.axvline(df_dev_dist.quantile(0.95)[\"dif_dev\"],\n",
    "           color=\"black\",\n",
    "           linestyle=\":\",\n",
    "           label=\"$p < 0.05$\")\n",
    "\n",
    "# X-axis Settings\n",
    "# ax.set_xlim(0, 1)\n",
    "# ax.set_xlabel('X-axis')\n",
    "\n",
    "# Y-axis Settings\n",
    "# ax.set_ylim(0, 1)\n",
    "# ax.set_ylabel('Y-axis')\n",
    "\n",
    "# Legend Settings\n",
    "ax.legend(loc='upper left', bbox_to_anchor=(1, 1))\n",
    "\n",
    "plt.show()\n",
    "\n",
    "df_dev_dist = pd.DataFrame(np.array(dev_dist))\n",
    "df_dev_dist.columns = [\"dif_dev\"]\n",
    "display(df_dev_dist.describe())\n",
    "\n",
    "print(\"p-value:\")\n",
    "print(df_dev_dist[df_dev_dist[\"dif_dev\"] >= diff_dev][\"dif_dev\"].count() \\\n",
    "      /df_dev_dist.shape[0])\n",
    "\n",
    "print(\"Difference of Deviance of p < 0.05:\")\n",
    "print(df_dev_dist.quantile(0.95)[\"dif_dev\"])"
   ]
  },
  {
   "cell_type": "markdown",
   "metadata": {},
   "source": [
    "# $\\chi^{2}$分布を使った近似計算\n",
    "\n",
    "逸脱度の差は用いたパラメータ数の差を自由度とする$\\chi^{2}$分布で近似できるとされている"
   ]
  },
  {
   "cell_type": "code",
   "execution_count": 171,
   "metadata": {},
   "outputs": [
    {
     "name": "stdout",
     "output_type": "stream",
     "text": [
      "p-value from chi-square distribution:\n",
      "0.03362\n",
      "\n",
      "p-value calculated by parametric bootstrapping:\n",
      "0.03266666666666666\n"
     ]
    }
   ],
   "source": [
    "p_val = stats.chi2.sf(x=diff_dev, df=1)\n",
    "print(\"p-value from chi-square distribution:\")\n",
    "print(\"{:.5f}\".format(p_val))\n",
    "print()\n",
    "\n",
    "print(\"p-value calculated by parametric bootstrapping:\")\n",
    "print(df_dev_dist[df_dev_dist[\"dif_dev\"] >= diff_dev][\"dif_dev\"].count() \\\n",
    "      /df_dev_dist.shape[0])"
   ]
  },
  {
   "cell_type": "code",
   "execution_count": 216,
   "metadata": {
    "slideshow": {
     "slide_type": "fragment"
    }
   },
   "outputs": [
    {
     "data": {
      "image/png": "[encoded data removed]",
      "text/plain": [
       "<Figure size 576x576 with 1 Axes>"
      ]
     },
     "metadata": {
      "image/png": {
       "height": 473,
       "width": 521
      },
      "needs_background": "light"
     },
     "output_type": "display_data"
    }
   ],
   "source": [
    "fontsize = 16\n",
    "figsize = (8, 8)\n",
    "\n",
    "rcParams['font.size'] = fontsize\n",
    "rcParams['figure.figsize'] = figsize\n",
    "\n",
    "# Generate Figure & Axes instances\n",
    "fig = plt.figure()\n",
    "ax = fig.add_subplot(1, 1, 1)\n",
    "\n",
    "bins = 50\n",
    "ax.hist(dev_dist,\n",
    "        color=\"white\",\n",
    "        edgecolor=\"black\",\n",
    "        bins=bins,\n",
    "        density=True)\n",
    "\n",
    "df = 1\n",
    "\n",
    "step = 0.05\n",
    "x = np.arange(step, math.ceil(df_dev_dist.max()) + 1,\n",
    "              step)\n",
    "trans_rate = 1\n",
    "ax.plot(x,\n",
    "        stats.chi2.pdf(x, df),\n",
    "        'r-',\n",
    "        label=\"$\\chi_{1}^{2}$ distribution\")\n",
    "\n",
    "ax.set_xlim(0, math.ceil(df_dev_dist.max()) + 1)\n",
    "ax.set_ylim(0,)\n",
    "\n",
    "ax.legend()\n",
    "\n",
    "plt.show()"
   ]
  }
 ],
 "metadata": {
  "kernelspec": {
   "display_name": "Python 3",
   "language": "python",
   "name": "python3"
  },
  "language_info": {
   "codemirror_mode": {
    "name": "ipython",
    "version": 3
   },
   "file_extension": ".py",
   "mimetype": "text/x-python",
   "name": "python",
   "nbconvert_exporter": "python",
   "pygments_lexer": "ipython3",
   "version": "3.6.4"
  }
 },
 "nbformat": 4,
 "nbformat_minor": 2
}
